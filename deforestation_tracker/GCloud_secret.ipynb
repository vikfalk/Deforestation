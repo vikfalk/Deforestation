{
 "cells": [
  {
   "cell_type": "markdown",
   "id": "94966032",
   "metadata": {},
   "source": [
    "# Passing secret keys to code in Google Cloud Run"
   ]
  },
  {
   "cell_type": "markdown",
   "id": "39a1bc13",
   "metadata": {},
   "source": [
    "## Setting secrets"
   ]
  },
  {
   "cell_type": "markdown",
   "id": "d2584802",
   "metadata": {},
   "source": [
    "\n",
    "```python\n",
    "pip install google-cloud-secret-manager\n",
    "#create secrets\n",
    "echo -n \"Hermann123\" | gcloud secrets create example_client_id_3 --data-file=-\n",
    "```"
   ]
  },
  {
   "cell_type": "markdown",
   "id": "56de6ac2",
   "metadata": {},
   "source": [
    "## Granting access"
   ]
  },
  {
   "cell_type": "markdown",
   "id": "9ac4a806",
   "metadata": {},
   "source": [
    "```python\n",
    "#get service account email\n",
    "gcloud iam service-accounts list # \"service-account-example@wagon-bootcamp-123456.iam.gserviceaccount.com\"\n",
    "# grant access\n",
    "gcloud secrets add-iam-policy-binding example_client_id_2 \\\n",
    "    --member=\"serviceAccount:service-account-example@wagon-bootcamp-123456.iam.gserviceaccount.com\" \\\n",
    "    --role=\"roles/secretmanager.secretAccessor\"\n",
    "```"
   ]
  },
  {
   "cell_type": "markdown",
   "id": "204fb4ef",
   "metadata": {},
   "source": [
    "## Access secrets from code"
   ]
  },
  {
   "cell_type": "code",
   "execution_count": 18,
   "id": "a9674f65",
   "metadata": {},
   "outputs": [
    {
     "name": "stdout",
     "output_type": "stream",
     "text": [
      "\u001b[33mWARNING: Ignoring invalid distribution -tatsmodels (/home/hennock/.pyenv/versions/3.10.6/envs/lewagon/lib/python3.10/site-packages)\u001b[0m\u001b[33m\r\n",
      "\u001b[0mgoogle-cloud-secret-manager==2.20.0\r\n"
     ]
    }
   ],
   "source": [
    "!pip freeze | grep google-cloud-secret-manager"
   ]
  },
  {
   "cell_type": "code",
   "execution_count": 11,
   "id": "21b851fa",
   "metadata": {},
   "outputs": [],
   "source": [
    "from google.cloud import secretmanager"
   ]
  },
  {
   "cell_type": "code",
   "execution_count": null,
   "id": "93bbf5ac",
   "metadata": {},
   "outputs": [],
   "source": [
    "PROJECT_ID = '740632289143'"
   ]
  },
  {
   "cell_type": "code",
   "execution_count": 25,
   "id": "d1be20e4",
   "metadata": {},
   "outputs": [],
   "source": [
    "def access_secret_version(secret_id):\n",
    "    client = secretmanager.SecretManagerServiceClient()\n",
    "    name = f\"projects/{PROJECT_ID}/secrets/{secret_id}/versions/latest\"\n",
    "    response = client.access_secret_version(name=name)\n",
    "    return response.payload.data.decode('UTF-8')\n",
    "\n",
    "client_id = access_secret_version(\"example_client_id\")"
   ]
  },
  {
   "cell_type": "code",
   "execution_count": 28,
   "id": "ea18b78e",
   "metadata": {},
   "outputs": [
    {
     "data": {
      "text/plain": [
       "'Hermann123'"
      ]
     },
     "execution_count": 28,
     "metadata": {},
     "output_type": "execute_result"
    }
   ],
   "source": [
    "client_id"
   ]
  }
 ],
 "metadata": {
  "kernelspec": {
   "display_name": "Python 3 (ipykernel)",
   "language": "python",
   "name": "python3"
  },
  "language_info": {
   "codemirror_mode": {
    "name": "ipython",
    "version": 3
   },
   "file_extension": ".py",
   "mimetype": "text/x-python",
   "name": "python",
   "nbconvert_exporter": "python",
   "pygments_lexer": "ipython3",
   "version": "3.10.6"
  },
  "toc": {
   "base_numbering": 1,
   "nav_menu": {},
   "number_sections": true,
   "sideBar": true,
   "skip_h1_title": false,
   "title_cell": "Table of Contents",
   "title_sidebar": "Contents",
   "toc_cell": false,
   "toc_position": {},
   "toc_section_display": true,
   "toc_window_display": false
  }
 },
 "nbformat": 4,
 "nbformat_minor": 5
}
