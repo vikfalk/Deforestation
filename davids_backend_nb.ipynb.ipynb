{
 "cells": [
  {
   "cell_type": "code",
   "execution_count": 3,
   "metadata": {},
   "outputs": [
    {
     "name": "stdout",
     "output_type": "stream",
     "text": [
      "Hello, I'm in the backend repo.\n"
     ]
    }
   ],
   "source": [
    "print(\"Hello, I'm in the backend repo.\")"
   ]
  },
  {
   "cell_type": "code",
   "execution_count": 21,
   "metadata": {},
   "outputs": [
    {
     "name": "stdout",
     "output_type": "stream",
     "text": [
      "\n",
      "        The forest coverage on the first image is 41.64 %,\n",
      "        the forest coverage on the second image is 50.2 %.\n",
      "        That is a increase of 20.56 %.\n",
      "    \n"
     ]
    }
   ],
   "source": [
    "from model.coverage_comparer import compare_coverage\n",
    "\n",
    "result_string = compare_coverage(\n",
    "    \"./segmented_output_files/generic_test.png\",\n",
    "    \"./segmented_output_files/without_clouds.png\"\n",
    ")\n",
    "print(result_string)"
   ]
  },
  {
   "cell_type": "code",
   "execution_count": 28,
   "metadata": {},
   "outputs": [
    {
     "name": "stdout",
     "output_type": "stream",
     "text": [
      "1/1 [==============================] - 0s 297ms/step\n"
     ]
    }
   ],
   "source": [
    "from tensorflow.keras.models import load_model\n",
    "from model.segmenter import image_segmenter\n",
    "\n",
    "model_ = load_model('./model/model_ressources/unet-attention-3d.hdf5')\n",
    "INPUT_FILE_ENDING = \".tiff\"\n",
    "OUTPUT_FILE_ENDING = \".png\"\n",
    "image_name_ = input(\"What is the name of the image file in the folder 'our_images' (without ending)? \")\n",
    "input_path_ = \"./raw_data/our_images/\" + image_name_ + INPUT_FILE_ENDING\n",
    "output_path_ = \"./segmented_output_files/\" + image_name_ + OUTPUT_FILE_ENDING\n",
    "image_segmenter(input_path_, output_path_, model_)"
   ]
  }
 ],
 "metadata": {
  "kernelspec": {
   "display_name": "deforestation",
   "language": "python",
   "name": "python3"
  },
  "language_info": {
   "codemirror_mode": {
    "name": "ipython",
    "version": 3
   },
   "file_extension": ".py",
   "mimetype": "text/x-python",
   "name": "python",
   "nbconvert_exporter": "python",
   "pygments_lexer": "ipython3",
   "version": "3.10.6"
  }
 },
 "nbformat": 4,
 "nbformat_minor": 2
}
